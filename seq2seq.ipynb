{
  "nbformat": 4,
  "nbformat_minor": 0,
  "metadata": {
    "colab": {
      "provenance": [],
      "gpuType": "T4"
    },
    "kernelspec": {
      "name": "python3",
      "display_name": "Python 3"
    },
    "language_info": {
      "name": "python"
    },
    "accelerator": "GPU"
  },
  "cells": [
    {
      "cell_type": "code",
      "source": [
        "!pip install contractions"
      ],
      "metadata": {
        "colab": {
          "base_uri": "https://localhost:8080/"
        },
        "id": "ZLzOxdtGBZuI",
        "outputId": "52265c03-a424-4c15-91cc-711324a4a7c4"
      },
      "execution_count": 1,
      "outputs": [
        {
          "output_type": "stream",
          "name": "stdout",
          "text": [
            "Collecting contractions\n",
            "  Downloading contractions-0.1.73-py2.py3-none-any.whl (8.7 kB)\n",
            "Collecting textsearch>=0.0.21 (from contractions)\n",
            "  Downloading textsearch-0.0.24-py2.py3-none-any.whl (7.6 kB)\n",
            "Collecting anyascii (from textsearch>=0.0.21->contractions)\n",
            "  Downloading anyascii-0.3.2-py3-none-any.whl (289 kB)\n",
            "\u001b[2K     \u001b[90m━━━━━━━━━━━━━━━━━━━━━━━━━━━━━━━━━━━━━━━\u001b[0m \u001b[32m289.9/289.9 kB\u001b[0m \u001b[31m5.2 MB/s\u001b[0m eta \u001b[36m0:00:00\u001b[0m\n",
            "\u001b[?25hCollecting pyahocorasick (from textsearch>=0.0.21->contractions)\n",
            "  Downloading pyahocorasick-2.0.0-cp310-cp310-manylinux_2_5_x86_64.manylinux1_x86_64.manylinux_2_12_x86_64.manylinux2010_x86_64.whl (110 kB)\n",
            "\u001b[2K     \u001b[90m━━━━━━━━━━━━━━━━━━━━━━━━━━━━━━━━━━━━━━━\u001b[0m \u001b[32m110.8/110.8 kB\u001b[0m \u001b[31m5.4 MB/s\u001b[0m eta \u001b[36m0:00:00\u001b[0m\n",
            "\u001b[?25hInstalling collected packages: pyahocorasick, anyascii, textsearch, contractions\n",
            "Successfully installed anyascii-0.3.2 contractions-0.1.73 pyahocorasick-2.0.0 textsearch-0.0.24\n"
          ]
        }
      ]
    },
    {
      "cell_type": "markdown",
      "source": [
        "##Import Files"
      ],
      "metadata": {
        "id": "RvHRq5XChDic"
      }
    },
    {
      "cell_type": "code",
      "source": [
        "import pandas as pd\n",
        "import contractions\n",
        "import numpy as np\n",
        "import tensorflow as tf\n",
        "from tensorflow.keras.preprocessing.text import Tokenizer\n",
        "from tensorflow.keras.preprocessing.sequence import pad_sequences\n",
        "from sklearn.model_selection import train_test_split\n",
        "from tensorflow.keras.layers import Dense, LSTM, Bidirectional, Embedding, Concatenate, Input\n",
        "from tensorflow.keras.models import Model\n",
        "from tensorflow.keras.callbacks import EarlyStopping"
      ],
      "metadata": {
        "id": "cweiVhu6vekg"
      },
      "execution_count": 2,
      "outputs": []
    },
    {
      "cell_type": "markdown",
      "source": [
        "##Data pre process"
      ],
      "metadata": {
        "id": "bsWf-6cpvhEy"
      }
    },
    {
      "cell_type": "code",
      "source": [
        "data = pd.read_csv(\"/data/deu.txt\", header=None, sep=\"\\t\")\n",
        "en_text1 = data[0][:100000]\n",
        "de_text1 = data[1][:100000]\n",
        "\n",
        "en_text = []\n",
        "de_text = []\n",
        "max_length = 20  # Limit the maximum sequence length for both input and output\n",
        "de_set = set()\n",
        "en_set = set()\n",
        "\n",
        "for word in en_text1:\n",
        "    en_text.append(contractions.fix(word))\n",
        "    en_set.add(word)\n",
        "\n",
        "for word in de_text1:\n",
        "    de_text.append(\"[CLS] \" + word + \" [EOS]\")\n",
        "    de_set.add(word)\n",
        "\n",
        "de_word_count = len(de_set)\n",
        "en_word_count = len(en_set)\n",
        "\n",
        "print(f\"Total number of unique English words count: {en_word_count},\\nTotal number of unique German words count : {de_word_count}\")\n"
      ],
      "metadata": {
        "colab": {
          "base_uri": "https://localhost:8080/"
        },
        "id": "TiTesJYK-tBL",
        "outputId": "e134ade5-6f8e-470d-d986-7d40e02d5d71"
      },
      "execution_count": 3,
      "outputs": [
        {
          "output_type": "stream",
          "name": "stdout",
          "text": [
            "Total number of unique English words count: 19410,\n",
            "Total number of unique German words count : 23158\n"
          ]
        },
        {
          "output_type": "execute_result",
          "data": {
            "text/plain": [
              "['[CLS] Geh. [EOS]',\n",
              " '[CLS] Hallo! [EOS]',\n",
              " '[CLS] Grüß Gott! [EOS]',\n",
              " '[CLS] Lauf! [EOS]',\n",
              " '[CLS] Lauf! [EOS]']"
            ]
          },
          "metadata": {},
          "execution_count": 3
        }
      ]
    },
    {
      "cell_type": "markdown",
      "source": [
        "##Tokenize Data"
      ],
      "metadata": {
        "id": "VvJWCMXEhTn1"
      }
    },
    {
      "cell_type": "code",
      "source": [
        "def tokenize(text,length):\n",
        "    tokenizer = Tokenizer()\n",
        "    tokenizer.fit_on_texts(text)\n",
        "    token = tokenizer.texts_to_sequences(text)\n",
        "    token = np.array(pad_sequences(token, maxlen=length, padding='post'))\n",
        "    return tokenizer, token\n",
        "\n",
        "en_tokenizer, en_token = tokenize(en_text,max_length)\n",
        "de_tokenizer, de_token = tokenize(de_text,max_length)\n",
        "\n",
        "X_train, X_test, y_train, y_test = train_test_split(en_token, de_token, test_size=0.2, random_state=42, shuffle=True)\n",
        "\n"
      ],
      "metadata": {
        "id": "ZajfqDtSffbC"
      },
      "execution_count": 4,
      "outputs": []
    },
    {
      "cell_type": "markdown",
      "source": [
        "##Build Encoder & Decoder"
      ],
      "metadata": {
        "id": "2QRWANsXhxrz"
      }
    },
    {
      "cell_type": "code",
      "source": [
        "# Encoder\n",
        "encoder_inputs = Input(shape=(max_length,))\n",
        "enc_emb = Embedding(en_word_count, 256)(encoder_inputs)\n",
        "enc_lstm1 = Bidirectional(LSTM(128, return_sequences=True, return_state=True))\n",
        "encoder_outputs1, forw_state_h, forw_state_c, back_state_h, back_state_c = enc_lstm1(enc_emb)\n",
        "final_enc_h = Concatenate()([forw_state_h, back_state_h])\n",
        "final_enc_c = Concatenate()([forw_state_c, back_state_c])\n",
        "encoder_states = [final_enc_h, final_enc_c]\n",
        "\n",
        "# Decoder\n",
        "decoder_inputs = Input(shape=(None,))\n",
        "dec_emb_layer = Embedding(de_word_count, 256)\n",
        "dec_emb = dec_emb_layer(decoder_inputs)\n",
        "decoder_lstm = LSTM(256, return_sequences=True, return_state=True)\n",
        "decoder_outputs, _, _ = decoder_lstm(dec_emb, initial_state=encoder_states)\n",
        "decoder_dense = Dense(de_word_count, activation='softmax')\n",
        "decoder_outputs = decoder_dense(decoder_outputs)\n",
        "\n",
        "\n"
      ],
      "metadata": {
        "id": "3TVh2RxXiINt"
      },
      "execution_count": 5,
      "outputs": []
    },
    {
      "cell_type": "markdown",
      "source": [
        "##Build, Compile and fit the Model"
      ],
      "metadata": {
        "id": "y2zDIdIPiMds"
      }
    },
    {
      "cell_type": "code",
      "source": [
        "# Define the model\n",
        "model = Model([encoder_inputs, decoder_inputs], decoder_outputs)\n",
        "\n",
        "early_stopping = EarlyStopping(monitor='val_accuracy', patience=5)\n",
        "\n",
        "# Training\n",
        "encoder_input_data = X_train\n",
        "decoder_input_data = y_train[:, :-1]\n",
        "decoder_target_data = y_train[:, 1:]\n",
        "\n",
        "# Testing\n",
        "encoder_input_test = X_test\n",
        "decoder_input_test = y_test[:, :-1]\n",
        "decoder_target_test = y_test[:, 1:]\n",
        "\n",
        "model.compile(optimizer='adam', loss='sparse_categorical_crossentropy', metrics=['accuracy'])\n",
        "history = model.fit(\n",
        "    [encoder_input_data, decoder_input_data],\n",
        "    decoder_target_data,\n",
        "    epochs=100,\n",
        "    batch_size=256,\n",
        "    validation_data=([encoder_input_test, decoder_input_test], decoder_target_test),\n",
        "    callbacks=[early_stopping]\n",
        ")\n",
        "\n"
      ],
      "metadata": {
        "id": "q7IOo88BiYF8",
        "colab": {
          "base_uri": "https://localhost:8080/"
        },
        "outputId": "bd4e0bd0-d6d1-4b32-ac1d-9ac23438a555"
      },
      "execution_count": 21,
      "outputs": [
        {
          "output_type": "stream",
          "name": "stdout",
          "text": [
            "Epoch 1/100\n",
            "82/82 [==============================] - 27s 257ms/step - loss: 0.8015 - accuracy: 0.8698 - val_loss: 0.8489 - val_accuracy: 0.8692\n",
            "Epoch 2/100\n",
            "82/82 [==============================] - 14s 166ms/step - loss: 0.7558 - accuracy: 0.8743 - val_loss: 0.8256 - val_accuracy: 0.8722\n",
            "Epoch 3/100\n",
            "82/82 [==============================] - 14s 166ms/step - loss: 0.7217 - accuracy: 0.8775 - val_loss: 0.8045 - val_accuracy: 0.8745\n",
            "Epoch 4/100\n",
            "82/82 [==============================] - 12s 148ms/step - loss: 0.6887 - accuracy: 0.8812 - val_loss: 0.7834 - val_accuracy: 0.8783\n",
            "Epoch 5/100\n",
            "82/82 [==============================] - 12s 150ms/step - loss: 0.6552 - accuracy: 0.8849 - val_loss: 0.7616 - val_accuracy: 0.8814\n",
            "Epoch 6/100\n",
            "82/82 [==============================] - 13s 162ms/step - loss: 0.6219 - accuracy: 0.8886 - val_loss: 0.7417 - val_accuracy: 0.8839\n",
            "Epoch 7/100\n",
            "82/82 [==============================] - 13s 153ms/step - loss: 0.5894 - accuracy: 0.8925 - val_loss: 0.7256 - val_accuracy: 0.8865\n",
            "Epoch 8/100\n",
            "82/82 [==============================] - 13s 163ms/step - loss: 0.5581 - accuracy: 0.8963 - val_loss: 0.7085 - val_accuracy: 0.8898\n",
            "Epoch 9/100\n",
            "82/82 [==============================] - 12s 148ms/step - loss: 0.5270 - accuracy: 0.9002 - val_loss: 0.6925 - val_accuracy: 0.8922\n",
            "Epoch 10/100\n",
            "82/82 [==============================] - 13s 160ms/step - loss: 0.4982 - accuracy: 0.9037 - val_loss: 0.6760 - val_accuracy: 0.8941\n",
            "Epoch 11/100\n",
            "82/82 [==============================] - 13s 157ms/step - loss: 0.4702 - accuracy: 0.9076 - val_loss: 0.6633 - val_accuracy: 0.8963\n",
            "Epoch 12/100\n",
            "82/82 [==============================] - 13s 161ms/step - loss: 0.4436 - accuracy: 0.9113 - val_loss: 0.6498 - val_accuracy: 0.8982\n",
            "Epoch 13/100\n",
            "82/82 [==============================] - 13s 157ms/step - loss: 0.4189 - accuracy: 0.9149 - val_loss: 0.6397 - val_accuracy: 0.9005\n",
            "Epoch 14/100\n",
            "82/82 [==============================] - 12s 143ms/step - loss: 0.3954 - accuracy: 0.9185 - val_loss: 0.6290 - val_accuracy: 0.9017\n",
            "Epoch 15/100\n",
            "82/82 [==============================] - 13s 157ms/step - loss: 0.3730 - accuracy: 0.9221 - val_loss: 0.6200 - val_accuracy: 0.9039\n",
            "Epoch 16/100\n",
            "82/82 [==============================] - 12s 145ms/step - loss: 0.3519 - accuracy: 0.9256 - val_loss: 0.6112 - val_accuracy: 0.9055\n",
            "Epoch 17/100\n",
            "82/82 [==============================] - 13s 153ms/step - loss: 0.3320 - accuracy: 0.9295 - val_loss: 0.6031 - val_accuracy: 0.9066\n",
            "Epoch 18/100\n",
            "82/82 [==============================] - 13s 155ms/step - loss: 0.3127 - accuracy: 0.9331 - val_loss: 0.5961 - val_accuracy: 0.9081\n",
            "Epoch 19/100\n",
            "82/82 [==============================] - 11s 140ms/step - loss: 0.2953 - accuracy: 0.9368 - val_loss: 0.5892 - val_accuracy: 0.9090\n",
            "Epoch 20/100\n",
            "82/82 [==============================] - 13s 153ms/step - loss: 0.2788 - accuracy: 0.9399 - val_loss: 0.5824 - val_accuracy: 0.9105\n",
            "Epoch 21/100\n",
            "82/82 [==============================] - 13s 156ms/step - loss: 0.2631 - accuracy: 0.9431 - val_loss: 0.5771 - val_accuracy: 0.9114\n",
            "Epoch 22/100\n",
            "82/82 [==============================] - 12s 142ms/step - loss: 0.2488 - accuracy: 0.9457 - val_loss: 0.5735 - val_accuracy: 0.9122\n",
            "Epoch 23/100\n",
            "82/82 [==============================] - 13s 159ms/step - loss: 0.2353 - accuracy: 0.9484 - val_loss: 0.5677 - val_accuracy: 0.9135\n",
            "Epoch 24/100\n",
            "82/82 [==============================] - 12s 153ms/step - loss: 0.2223 - accuracy: 0.9511 - val_loss: 0.5648 - val_accuracy: 0.9146\n",
            "Epoch 25/100\n",
            "82/82 [==============================] - 13s 155ms/step - loss: 0.2106 - accuracy: 0.9536 - val_loss: 0.5616 - val_accuracy: 0.9154\n",
            "Epoch 26/100\n",
            "82/82 [==============================] - 13s 156ms/step - loss: 0.1996 - accuracy: 0.9557 - val_loss: 0.5591 - val_accuracy: 0.9158\n",
            "Epoch 27/100\n",
            "82/82 [==============================] - 13s 155ms/step - loss: 0.1893 - accuracy: 0.9577 - val_loss: 0.5570 - val_accuracy: 0.9168\n",
            "Epoch 28/100\n",
            "82/82 [==============================] - 13s 155ms/step - loss: 0.1798 - accuracy: 0.9596 - val_loss: 0.5535 - val_accuracy: 0.9172\n",
            "Epoch 29/100\n",
            "82/82 [==============================] - 12s 145ms/step - loss: 0.1712 - accuracy: 0.9611 - val_loss: 0.5559 - val_accuracy: 0.9173\n",
            "Epoch 30/100\n",
            "82/82 [==============================] - 13s 157ms/step - loss: 0.1627 - accuracy: 0.9630 - val_loss: 0.5506 - val_accuracy: 0.9182\n",
            "Epoch 31/100\n",
            "82/82 [==============================] - 12s 146ms/step - loss: 0.1553 - accuracy: 0.9641 - val_loss: 0.5510 - val_accuracy: 0.9187\n",
            "Epoch 32/100\n",
            "82/82 [==============================] - 13s 153ms/step - loss: 0.1480 - accuracy: 0.9657 - val_loss: 0.5492 - val_accuracy: 0.9193\n",
            "Epoch 33/100\n",
            "82/82 [==============================] - 13s 153ms/step - loss: 0.1411 - accuracy: 0.9671 - val_loss: 0.5485 - val_accuracy: 0.9194\n",
            "Epoch 34/100\n",
            "82/82 [==============================] - 12s 142ms/step - loss: 0.1352 - accuracy: 0.9682 - val_loss: 0.5482 - val_accuracy: 0.9198\n",
            "Epoch 35/100\n",
            "82/82 [==============================] - 13s 155ms/step - loss: 0.1290 - accuracy: 0.9693 - val_loss: 0.5486 - val_accuracy: 0.9204\n",
            "Epoch 36/100\n",
            "82/82 [==============================] - 13s 154ms/step - loss: 0.1241 - accuracy: 0.9703 - val_loss: 0.5498 - val_accuracy: 0.9197\n",
            "Epoch 37/100\n",
            "82/82 [==============================] - 12s 153ms/step - loss: 0.1189 - accuracy: 0.9711 - val_loss: 0.5477 - val_accuracy: 0.9205\n",
            "Epoch 38/100\n",
            "82/82 [==============================] - 13s 153ms/step - loss: 0.1139 - accuracy: 0.9720 - val_loss: 0.5492 - val_accuracy: 0.9202\n",
            "Epoch 39/100\n",
            "82/82 [==============================] - 13s 153ms/step - loss: 0.1093 - accuracy: 0.9729 - val_loss: 0.5493 - val_accuracy: 0.9208\n",
            "Epoch 40/100\n",
            "82/82 [==============================] - 11s 140ms/step - loss: 0.1053 - accuracy: 0.9735 - val_loss: 0.5504 - val_accuracy: 0.9205\n",
            "Epoch 41/100\n",
            "82/82 [==============================] - 13s 157ms/step - loss: 0.1017 - accuracy: 0.9741 - val_loss: 0.5513 - val_accuracy: 0.9206\n",
            "Epoch 42/100\n",
            "82/82 [==============================] - 13s 156ms/step - loss: 0.0979 - accuracy: 0.9746 - val_loss: 0.5535 - val_accuracy: 0.9209\n",
            "Epoch 43/100\n",
            "82/82 [==============================] - 12s 146ms/step - loss: 0.0943 - accuracy: 0.9755 - val_loss: 0.5538 - val_accuracy: 0.9210\n",
            "Epoch 44/100\n",
            "82/82 [==============================] - 13s 157ms/step - loss: 0.0908 - accuracy: 0.9759 - val_loss: 0.5557 - val_accuracy: 0.9209\n",
            "Epoch 45/100\n",
            "82/82 [==============================] - 12s 143ms/step - loss: 0.0879 - accuracy: 0.9765 - val_loss: 0.5574 - val_accuracy: 0.9205\n",
            "Epoch 46/100\n",
            "82/82 [==============================] - 13s 153ms/step - loss: 0.0851 - accuracy: 0.9769 - val_loss: 0.5578 - val_accuracy: 0.9208\n",
            "Epoch 47/100\n",
            "82/82 [==============================] - 13s 156ms/step - loss: 0.0821 - accuracy: 0.9775 - val_loss: 0.5597 - val_accuracy: 0.9213\n",
            "Epoch 48/100\n",
            "82/82 [==============================] - 12s 142ms/step - loss: 0.0797 - accuracy: 0.9779 - val_loss: 0.5609 - val_accuracy: 0.9211\n",
            "Epoch 49/100\n",
            "82/82 [==============================] - 12s 144ms/step - loss: 0.0768 - accuracy: 0.9784 - val_loss: 0.5620 - val_accuracy: 0.9212\n",
            "Epoch 50/100\n",
            "82/82 [==============================] - 11s 141ms/step - loss: 0.0747 - accuracy: 0.9785 - val_loss: 0.5639 - val_accuracy: 0.9211\n",
            "Epoch 51/100\n",
            "82/82 [==============================] - 11s 140ms/step - loss: 0.0723 - accuracy: 0.9790 - val_loss: 0.5664 - val_accuracy: 0.9207\n",
            "Epoch 52/100\n",
            "82/82 [==============================] - 12s 143ms/step - loss: 0.0703 - accuracy: 0.9794 - val_loss: 0.5682 - val_accuracy: 0.9208\n"
          ]
        }
      ]
    },
    {
      "cell_type": "markdown",
      "source": [
        "## Save the model"
      ],
      "metadata": {
        "id": "TDahGbUpicv8"
      }
    },
    {
      "cell_type": "code",
      "source": [
        "# Save the trained model\n",
        "model.save('seq2seq_model.h5')"
      ],
      "metadata": {
        "id": "rWF6QgfR4sKo",
        "colab": {
          "base_uri": "https://localhost:8080/",
          "height": 70
        },
        "outputId": "341fba44-fa08-4d29-c802-4d4dfe9862ca"
      },
      "execution_count": 7,
      "outputs": [
        {
          "output_type": "execute_result",
          "data": {
            "text/plain": [
              "\"\\n# Save tokenizers\\nimport pickle\\n\\nwith open('en_tokenizer.pickle', 'wb') as handle:\\n    pickle.dump(en_tokenizer, handle, protocol=pickle.HIGHEST_PROTOCOL)\\n\\nwith open('de_tokenizer.pickle', 'wb') as handle:\\n    pickle.dump(de_tokenizer, handle, protocol=pickle.HIGHEST_PROTOCOL)\\n\""
            ],
            "application/vnd.google.colaboratory.intrinsic+json": {
              "type": "string"
            }
          },
          "metadata": {},
          "execution_count": 7
        }
      ]
    },
    {
      "cell_type": "markdown",
      "source": [
        "# Prediction"
      ],
      "metadata": {
        "id": "N_adl22X24Mm"
      }
    },
    {
      "cell_type": "code",
      "source": [
        "def translate(input_text):\n",
        "    _,input_sequence = tokenize([input_text],max_length)\n",
        "\n",
        "    target_sequence = np.array([[de_tokenizer.word_index['cls']]])  # Start token\n",
        "\n",
        "    translated_text = ''\n",
        "\n",
        "    while True:\n",
        "        output_tokens = model.predict([input_sequence, target_sequence])\n",
        "        predicted_token_index = np.argmax(output_tokens[0, -1, :])\n",
        "        predicted_word = de_tokenizer.index_word[predicted_token_index]\n",
        "\n",
        "        if predicted_word == 'eos' or len(translated_text.split()) >= max_length:\n",
        "            break\n",
        "\n",
        "        translated_text += predicted_word + ' '\n",
        "        target_sequence = np.array([[predicted_token_index]])\n",
        "\n",
        "    return translated_text\n"
      ],
      "metadata": {
        "id": "A5EB9PkQ2_v_"
      },
      "execution_count": 36,
      "outputs": []
    },
    {
      "cell_type": "markdown",
      "source": [
        "# Translation"
      ],
      "metadata": {
        "id": "O9nqsla02yoD"
      }
    },
    {
      "cell_type": "code",
      "source": [
        "# Test the translation\n",
        "test_sentences = [\n",
        "    \"Ask me\",\n",
        "    \"I lied\"\n",
        "]\n",
        "\n",
        "for input_sentence in test_sentences:\n",
        "  translated_sentence = translate(input_sentence)\n",
        "  print(\"Input:\", input_sentence)\n",
        "  print(\"Translated:\", translated_sentence)\n",
        "  print(\"\\n\")\n",
        "\n",
        "\n"
      ],
      "metadata": {
        "colab": {
          "base_uri": "https://localhost:8080/"
        },
        "id": "_cAAAcpjxHyi",
        "outputId": "c93114c5-845a-45d1-b6b7-f57a6d8f0719"
      },
      "execution_count": 37,
      "outputs": [
        {
          "output_type": "stream",
          "name": "stdout",
          "text": [
            "1/1 [==============================] - 0s 21ms/step\n",
            "1/1 [==============================] - 0s 22ms/step\n",
            "1/1 [==============================] - 0s 21ms/step\n",
            "1/1 [==============================] - 0s 22ms/step\n",
            "1/1 [==============================] - 0s 22ms/step\n",
            "1/1 [==============================] - 0s 29ms/step\n",
            "1/1 [==============================] - 0s 21ms/step\n",
            "1/1 [==============================] - 0s 20ms/step\n",
            "1/1 [==============================] - 0s 19ms/step\n",
            "1/1 [==============================] - 0s 20ms/step\n",
            "1/1 [==============================] - 0s 24ms/step\n",
            "1/1 [==============================] - 0s 22ms/step\n",
            "1/1 [==============================] - 0s 24ms/step\n",
            "1/1 [==============================] - 0s 22ms/step\n",
            "1/1 [==============================] - 0s 20ms/step\n",
            "1/1 [==============================] - 0s 22ms/step\n",
            "1/1 [==============================] - 0s 19ms/step\n",
            "1/1 [==============================] - 0s 19ms/step\n",
            "1/1 [==============================] - 0s 20ms/step\n",
            "1/1 [==============================] - 0s 22ms/step\n",
            "1/1 [==============================] - 0s 23ms/step\n",
            "Input: Ask me\n",
            "Translated: fragen sie mich\n",
            "\n",
            "\n",
            "1/1 [==============================] - 0s 22ms/step\n",
            "1/1 [==============================] - 0s 24ms/step\n",
            "1/1 [==============================] - 0s 22ms/step\n",
            "1/1 [==============================] - 0s 21ms/step\n",
            "1/1 [==============================] - 0s 23ms/step\n",
            "1/1 [==============================] - 0s 20ms/step\n",
            "1/1 [==============================] - 0s 20ms/step\n",
            "1/1 [==============================] - 0s 21ms/step\n",
            "1/1 [==============================] - 0s 22ms/step\n",
            "1/1 [==============================] - 0s 22ms/step\n",
            "1/1 [==============================] - 0s 22ms/step\n",
            "1/1 [==============================] - 0s 20ms/step\n",
            "1/1 [==============================] - 0s 20ms/step\n",
            "1/1 [==============================] - 0s 21ms/step\n",
            "1/1 [==============================] - 0s 23ms/step\n",
            "1/1 [==============================] - 0s 26ms/step\n",
            "1/1 [==============================] - 0s 23ms/step\n",
            "1/1 [==============================] - 0s 20ms/step\n",
            "1/1 [==============================] - 0s 20ms/step\n",
            "1/1 [==============================] - 0s 19ms/step\n",
            "1/1 [==============================] - 0s 20ms/step\n",
            "Input: I lied\n",
            "Translated: ich habe gelogen\n",
            "\n",
            "\n"
          ]
        }
      ]
    }
  ]
}
